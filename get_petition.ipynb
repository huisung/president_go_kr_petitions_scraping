{
  "nbformat": 4,
  "nbformat_minor": 0,
  "metadata": {
    "colab": {
      "name": "get_petition.ipynb",
      "provenance": [],
      "include_colab_link": true
    },
    "kernelspec": {
      "name": "python3",
      "display_name": "Python 3"
    },
    "widgets": {
      "application/vnd.jupyter.widget-state+json": {
        "0d4680f7d60f4b44a326e3b29e15f75d": {
          "model_module": "@jupyter-widgets/controls",
          "model_name": "HBoxModel",
          "state": {
            "_view_name": "HBoxView",
            "_dom_classes": [],
            "_model_name": "HBoxModel",
            "_view_module": "@jupyter-widgets/controls",
            "_model_module_version": "1.5.0",
            "_view_count": null,
            "_view_module_version": "1.5.0",
            "box_style": "",
            "layout": "IPY_MODEL_efb6f56c7b1744b9a8f4670dfda06850",
            "_model_module": "@jupyter-widgets/controls",
            "children": [
              "IPY_MODEL_9c3f694550ba402d8e379cfa75afd188",
              "IPY_MODEL_c195671ee4bc48e29a3fb74210f12d9b"
            ]
          }
        },
        "efb6f56c7b1744b9a8f4670dfda06850": {
          "model_module": "@jupyter-widgets/base",
          "model_name": "LayoutModel",
          "state": {
            "_view_name": "LayoutView",
            "grid_template_rows": null,
            "right": null,
            "justify_content": null,
            "_view_module": "@jupyter-widgets/base",
            "overflow": null,
            "_model_module_version": "1.2.0",
            "_view_count": null,
            "flex_flow": null,
            "width": null,
            "min_width": null,
            "border": null,
            "align_items": null,
            "bottom": null,
            "_model_module": "@jupyter-widgets/base",
            "top": null,
            "grid_column": null,
            "overflow_y": null,
            "overflow_x": null,
            "grid_auto_flow": null,
            "grid_area": null,
            "grid_template_columns": null,
            "flex": null,
            "_model_name": "LayoutModel",
            "justify_items": null,
            "grid_row": null,
            "max_height": null,
            "align_content": null,
            "visibility": null,
            "align_self": null,
            "height": null,
            "min_height": null,
            "padding": null,
            "grid_auto_rows": null,
            "grid_gap": null,
            "max_width": null,
            "order": null,
            "_view_module_version": "1.2.0",
            "grid_template_areas": null,
            "object_position": null,
            "object_fit": null,
            "grid_auto_columns": null,
            "margin": null,
            "display": null,
            "left": null
          }
        },
        "9c3f694550ba402d8e379cfa75afd188": {
          "model_module": "@jupyter-widgets/controls",
          "model_name": "IntProgressModel",
          "state": {
            "_view_name": "ProgressView",
            "style": "IPY_MODEL_a11b3cb55c354d96b41020d5ce45c300",
            "_dom_classes": [],
            "description": "",
            "_model_name": "IntProgressModel",
            "bar_style": "success",
            "max": 2,
            "_view_module": "@jupyter-widgets/controls",
            "_model_module_version": "1.5.0",
            "value": 2,
            "_view_count": null,
            "_view_module_version": "1.5.0",
            "orientation": "horizontal",
            "min": 0,
            "description_tooltip": null,
            "_model_module": "@jupyter-widgets/controls",
            "layout": "IPY_MODEL_dafd0df92b0b4db194272d894b86c1c5"
          }
        },
        "c195671ee4bc48e29a3fb74210f12d9b": {
          "model_module": "@jupyter-widgets/controls",
          "model_name": "HTMLModel",
          "state": {
            "_view_name": "HTMLView",
            "style": "IPY_MODEL_235502e18c5a47fca251e6a368aa51e6",
            "_dom_classes": [],
            "description": "",
            "_model_name": "HTMLModel",
            "placeholder": "​",
            "_view_module": "@jupyter-widgets/controls",
            "_model_module_version": "1.5.0",
            "value": "100% 2/2 [00:06&lt;00:00,  3.30s/it]",
            "_view_count": null,
            "_view_module_version": "1.5.0",
            "description_tooltip": null,
            "_model_module": "@jupyter-widgets/controls",
            "layout": "IPY_MODEL_7900d393987f405a9bfe69f566758aaa"
          }
        },
        "a11b3cb55c354d96b41020d5ce45c300": {
          "model_module": "@jupyter-widgets/controls",
          "model_name": "ProgressStyleModel",
          "state": {
            "_view_name": "StyleView",
            "_model_name": "ProgressStyleModel",
            "description_width": "",
            "_view_module": "@jupyter-widgets/base",
            "_model_module_version": "1.5.0",
            "_view_count": null,
            "_view_module_version": "1.2.0",
            "bar_color": null,
            "_model_module": "@jupyter-widgets/controls"
          }
        },
        "dafd0df92b0b4db194272d894b86c1c5": {
          "model_module": "@jupyter-widgets/base",
          "model_name": "LayoutModel",
          "state": {
            "_view_name": "LayoutView",
            "grid_template_rows": null,
            "right": null,
            "justify_content": null,
            "_view_module": "@jupyter-widgets/base",
            "overflow": null,
            "_model_module_version": "1.2.0",
            "_view_count": null,
            "flex_flow": null,
            "width": null,
            "min_width": null,
            "border": null,
            "align_items": null,
            "bottom": null,
            "_model_module": "@jupyter-widgets/base",
            "top": null,
            "grid_column": null,
            "overflow_y": null,
            "overflow_x": null,
            "grid_auto_flow": null,
            "grid_area": null,
            "grid_template_columns": null,
            "flex": null,
            "_model_name": "LayoutModel",
            "justify_items": null,
            "grid_row": null,
            "max_height": null,
            "align_content": null,
            "visibility": null,
            "align_self": null,
            "height": null,
            "min_height": null,
            "padding": null,
            "grid_auto_rows": null,
            "grid_gap": null,
            "max_width": null,
            "order": null,
            "_view_module_version": "1.2.0",
            "grid_template_areas": null,
            "object_position": null,
            "object_fit": null,
            "grid_auto_columns": null,
            "margin": null,
            "display": null,
            "left": null
          }
        },
        "235502e18c5a47fca251e6a368aa51e6": {
          "model_module": "@jupyter-widgets/controls",
          "model_name": "DescriptionStyleModel",
          "state": {
            "_view_name": "StyleView",
            "_model_name": "DescriptionStyleModel",
            "description_width": "",
            "_view_module": "@jupyter-widgets/base",
            "_model_module_version": "1.5.0",
            "_view_count": null,
            "_view_module_version": "1.2.0",
            "_model_module": "@jupyter-widgets/controls"
          }
        },
        "7900d393987f405a9bfe69f566758aaa": {
          "model_module": "@jupyter-widgets/base",
          "model_name": "LayoutModel",
          "state": {
            "_view_name": "LayoutView",
            "grid_template_rows": null,
            "right": null,
            "justify_content": null,
            "_view_module": "@jupyter-widgets/base",
            "overflow": null,
            "_model_module_version": "1.2.0",
            "_view_count": null,
            "flex_flow": null,
            "width": null,
            "min_width": null,
            "border": null,
            "align_items": null,
            "bottom": null,
            "_model_module": "@jupyter-widgets/base",
            "top": null,
            "grid_column": null,
            "overflow_y": null,
            "overflow_x": null,
            "grid_auto_flow": null,
            "grid_area": null,
            "grid_template_columns": null,
            "flex": null,
            "_model_name": "LayoutModel",
            "justify_items": null,
            "grid_row": null,
            "max_height": null,
            "align_content": null,
            "visibility": null,
            "align_self": null,
            "height": null,
            "min_height": null,
            "padding": null,
            "grid_auto_rows": null,
            "grid_gap": null,
            "max_width": null,
            "order": null,
            "_view_module_version": "1.2.0",
            "grid_template_areas": null,
            "object_position": null,
            "object_fit": null,
            "grid_auto_columns": null,
            "margin": null,
            "display": null,
            "left": null
          }
        }
      }
    }
  },
  "cells": [
    {
      "cell_type": "markdown",
      "metadata": {
        "id": "view-in-github",
        "colab_type": "text"
      },
      "source": [
        "<a href=\"https://colab.research.google.com/github/huisung/president_go_kr_petitions_scraping/blob/master/get_petition.ipynb\" target=\"_parent\"><img src=\"https://colab.research.google.com/assets/colab-badge.svg\" alt=\"Open In Colab\"/></a>"
      ]
    },
    {
      "cell_type": "markdown",
      "metadata": {
        "id": "d1i7pyLvcyBE",
        "colab_type": "text"
      },
      "source": [
        "# 국민청원 데이터 가져오기"
      ]
    },
    {
      "cell_type": "markdown",
      "metadata": {
        "id": "ftYybXggcudF",
        "colab_type": "text"
      },
      "source": [
        "\n",
        "- 참고:\n",
        "  - [국민청원 데이터셋 CSV](https://newhiwoong.github.io/%EA%B5%AD%EB%AF%BC%EC%B2%AD%EC%9B%90/%EA%B5%AD%EB%AF%BC%EC%B2%AD%EC%9B%90-%EB%8D%B0%EC%9D%B4%ED%84%B0%EC%85%8B)\n",
        "  - [청와대 국민청원 https://www1.president.go.kr/petitions](https://www1.president.go.kr/petitions)\n",
        "  - [Using Selenium with Google Colaboratory https://darektidwell.com/using-selenium-with-google-colaboratory/](https://darektidwell.com/using-selenium-with-google-colaboratory/)\n",
        "  - [https://stackoverflow.com/questions/56829470/selenium-google-colab-error-chromedriver-executable-needs-to-be-in-path](https://stackoverflow.com/questions/56829470/selenium-google-colab-error-chromedriver-executable-needs-to-be-in-path)\n",
        " \n",
        "- 참고링크 중 \"국민청원 데이터셋 CSV\"의 내용을 토대로 수정하여 작성\n",
        "- 1건당 1-5초씩 걸리는데...."
      ]
    },
    {
      "cell_type": "markdown",
      "metadata": {
        "id": "_7Bh5kPddKKx",
        "colab_type": "text"
      },
      "source": [
        "## 확인된 에러의 경우 \n",
        "1. 없는 페이지\n",
        "2. 관리자 차단 페이지"
      ]
    },
    {
      "cell_type": "code",
      "metadata": {
        "id": "T7v_K1bAgNtJ",
        "colab_type": "code",
        "outputId": "c7add87c-548b-4659-8d71-1468f0db3666",
        "colab": {
          "base_uri": "https://localhost:8080/",
          "height": 791
        }
      },
      "source": [
        "import sys\n",
        "\n",
        "# install chromium, its driver, and selenium\n",
        "if 'google.colab' in sys.modules:\n",
        "    !apt-get update\n",
        "    !apt install chromium-chromedriver\n",
        "    !cp /usr/lib/chromium-browser/chromedriver /usr/bin\n",
        "    !pip install selenium\n",
        "\n",
        "# set options to be headless, ..\n",
        "from selenium import webdriver\n",
        "from selenium.webdriver.common.by import By\n",
        "from selenium.webdriver.support.ui import WebDriverWait\n",
        "from selenium.webdriver.support import expected_conditions as EC\n",
        "options = webdriver.ChromeOptions()\n",
        "options.add_argument('--headless')\n",
        "options.add_argument('--no-sandbox')\n",
        "options.add_argument('--disable-dev-shm-usage')\n",
        "# open it, go to a website, and get results\n",
        "wd = webdriver.Chrome('chromedriver',options=options)\n",
        "\n",
        "from bs4 import BeautifulSoup\n",
        "import re\n",
        "\n",
        "if 'ipykernel' in sys.modules:\n",
        "    from tqdm import tqdm_notebook as tqdm\n",
        "else:\n",
        "    from tqdm import tqdm"
      ],
      "execution_count": 23,
      "outputs": [
        {
          "output_type": "stream",
          "text": [
            "\r0% [Working]\r            \rGet:1 http://security.ubuntu.com/ubuntu bionic-security InRelease [88.7 kB]\n",
            "\r            \rHit:2 http://ppa.launchpad.net/graphics-drivers/ppa/ubuntu bionic InRelease\n",
            "\r0% [Waiting for headers] [1 InRelease 20.0 kB/88.7 kB 22%] [Connecting to cloud\r                                                                               \rHit:3 http://archive.ubuntu.com/ubuntu bionic InRelease\n",
            "\r                                                                               \rHit:4 http://archive.ubuntu.com/ubuntu bionic-updates InRelease\n",
            "\r0% [Waiting for headers] [1 InRelease 20.0 kB/88.7 kB 22%] [Connecting to cloud\r0% [2 InRelease gpgv 21.3 kB] [Waiting for headers] [1 InRelease 22.9 kB/88.7 k\r                                                                               \rHit:5 http://ppa.launchpad.net/marutter/c2d4u3.5/ubuntu bionic InRelease\n",
            "\r0% [2 InRelease gpgv 21.3 kB] [Waiting for headers] [1 InRelease 43.1 kB/88.7 k\r                                                                               \rGet:6 http://archive.ubuntu.com/ubuntu bionic-backports InRelease [74.6 kB]\n",
            "\r0% [2 InRelease gpgv 21.3 kB] [6 InRelease 14.2 kB/74.6 kB 19%] [1 InRelease 51\r0% [2 InRelease gpgv 21.3 kB] [6 InRelease 31.6 kB/74.6 kB 42%] [Connected to c\r0% [2 InRelease gpgv 21.3 kB] [Connected to cloud.r-project.org (13.225.78.104)\r                                                                               \rHit:7 https://cloud.r-project.org/bin/linux/ubuntu bionic-cran35/ InRelease\n",
            "\r                                                                               \r0% [2 InRelease gpgv 21.3 kB] [Waiting for headers]\r                                                   \rIgn:8 https://developer.download.nvidia.com/compute/cuda/repos/ubuntu1804/x86_64  InRelease\n",
            "\r0% [2 InRelease gpgv 21.3 kB] [Waiting for headers]\r                                                   \r0% [Waiting for headers]\r0% [3 InRelease gpgv 242 kB] [Waiting for headers]\r                                                  \rIgn:9 https://developer.download.nvidia.com/compute/machine-learning/repos/ubuntu1804/x86_64  InRelease\n",
            "\r                                                  \r0% [3 InRelease gpgv 242 kB]\r                            \rHit:10 https://developer.download.nvidia.com/compute/cuda/repos/ubuntu1804/x86_64  Release\n",
            "Hit:11 https://developer.download.nvidia.com/compute/machine-learning/repos/ubuntu1804/x86_64  Release\n",
            "Fetched 163 kB in 2s (99.0 kB/s)\n",
            "Reading package lists... Done\n",
            "Reading package lists... Done\n",
            "Building dependency tree       \n",
            "Reading state information... Done\n",
            "chromium-chromedriver is already the newest version (78.0.3904.108-0ubuntu0.18.04.1).\n",
            "The following packages were automatically installed and are no longer required:\n",
            "  cuda-cufft-10-1 cuda-cufft-dev-10-1 cuda-curand-10-1 cuda-curand-dev-10-1\n",
            "  cuda-cusolver-10-1 cuda-cusolver-dev-10-1 cuda-cusparse-10-1\n",
            "  cuda-cusparse-dev-10-1 cuda-drivers cuda-license-10-2 cuda-npp-10-1\n",
            "  cuda-npp-dev-10-1 cuda-nsight-10-1 cuda-nsight-compute-10-1\n",
            "  cuda-nsight-systems-10-1 cuda-nvgraph-10-1 cuda-nvgraph-dev-10-1\n",
            "  cuda-nvjpeg-10-1 cuda-nvjpeg-dev-10-1 cuda-nvrtc-10-1 cuda-nvrtc-dev-10-1\n",
            "  cuda-nvvp-10-1 default-jre dkms freeglut3 freeglut3-dev\n",
            "  keyboard-configuration libargon2-0 libcap2 libcryptsetup12 libcublas10\n",
            "  libdevmapper1.02.1 libfontenc1 libgtk2.0-0 libgtk2.0-common libidn11\n",
            "  libip4tc0 libjansson4 libnvidia-cfg1-440 libnvidia-common-430\n",
            "  libnvidia-common-440 libnvidia-decode-440 libnvidia-encode-440\n",
            "  libnvidia-fbc1-440 libnvidia-gl-440 libnvidia-ifr1-440 libpam-systemd\n",
            "  libpolkit-agent-1-0 libpolkit-backend-1-0 libpolkit-gobject-1-0 libxfont2\n",
            "  libxi-dev libxkbfile1 libxmu-dev libxmu-headers libxnvctrl0\n",
            "  nsight-compute-2019.5.0 nsight-systems-2019.5.2 nvidia-compute-utils-440\n",
            "  nvidia-dkms-440 nvidia-driver-440 nvidia-kernel-common-440\n",
            "  nvidia-kernel-source-440 nvidia-modprobe nvidia-settings nvidia-utils-440\n",
            "  openjdk-11-jre policykit-1 policykit-1-gnome python3-xkit\n",
            "  screen-resolution-extra systemd systemd-sysv udev x11-xkb-utils\n",
            "  xserver-common xserver-xorg-core-hwe-18.04 xserver-xorg-video-nvidia-440\n",
            "Use 'apt autoremove' to remove them.\n",
            "0 upgraded, 0 newly installed, 0 to remove and 41 not upgraded.\n",
            "cp: '/usr/lib/chromium-browser/chromedriver' and '/usr/bin/chromedriver' are the same file\n",
            "Requirement already satisfied: selenium in /usr/local/lib/python3.6/dist-packages (3.141.0)\n",
            "Requirement already satisfied: urllib3 in /usr/local/lib/python3.6/dist-packages (from selenium) (1.24.3)\n"
          ],
          "name": "stdout"
        }
      ]
    },
    {
      "cell_type": "code",
      "metadata": {
        "id": "roE_ee6VtFEL",
        "colab_type": "code",
        "colab": {}
      },
      "source": [
        "def get_petition(number):\n",
        "    base_url='https://www1.president.go.kr/petitions/'\n",
        "    try:\n",
        "        wd.get(base_url+str(number))\n",
        "        element = WebDriverWait(wd, 2).until(\n",
        "            EC.presence_of_element_located((By.CLASS_NAME, 'petitionsView_title')))\n",
        "        #bs = BeautifulSoup(wd.page_source, 'html.parser')\n",
        "        bs = BeautifulSoup(wd.page_source, 'lxml')\n",
        "\n",
        "        progress = bs.find('div',{'class':'petitionsView_progress'}).get_text().strip()\n",
        "        title = bs.find('h3',{'class':'petitionsView_title'}).get_text().strip()\n",
        "        like = bs.find('h2',{'class':'petitionsView_count'}).get_text().strip()\n",
        "        like = int(''.join(re.findall('\\d+', str(like))))\n",
        "        if progress == '답변완료':\n",
        "            contents = bs.find_all('div',{'class':'View_write'})[1].get_text().strip()\n",
        "            answer = bs.find_all('div',{'class':'pr_tk25'})[1].get_text().strip()[4:].strip()\n",
        "        else:\n",
        "            contents = bs.find('div',{'class':'View_write'}).get_text().strip()\n",
        "            answer = ''\n",
        "        info = bs.find('ul',{'class':'petitionsView_info_list'}).get_text().split('\\n')\n",
        "        category = info[1][4:]\n",
        "        sday = info[2][4:]\n",
        "        eday = info[3][4:]\n",
        "        proponent = info[4][3:].split()[0]\n",
        "        return {'number':number, 'progress':progress, 'title':title,  'like':like,\n",
        "                'contents':contents, 'answer':answer, 'category':category,\n",
        "                'sday':sday, 'eday':eday, 'proponent':proponent}\n",
        "    except Exception as e:\n",
        "        print(number, e)\n",
        "        return {'number':number, 'progress':'error', 'title':'',  'like':0,\n",
        "                'contents':str(e), 'answer':'', 'category':'',\n",
        "                'sday':'', 'eday':'', 'proponent':''}"
      ],
      "execution_count": 0,
      "outputs": []
    },
    {
      "cell_type": "code",
      "metadata": {
        "id": "v0tAtHFdtqHB",
        "colab_type": "code",
        "colab": {
          "base_uri": "https://localhost:8080/",
          "height": 73
        },
        "outputId": "6d12fdf0-8f0e-43c2-bf3d-d86c70a7905e"
      },
      "source": [
        "if __name__ == '__main__' or 'google.colab' in sys.modules:\n",
        "    print(get_petition(300))\n",
        "    print(get_petition(582349))"
      ],
      "execution_count": 26,
      "outputs": [
        {
          "output_type": "stream",
          "text": [
            "{'number': 300, 'progress': '청원종료', 'title': '대기업의 잘못된 인터넷 개인가입자 민원 처리방식과 위약금', 'like': 0, 'contents': '저는 SK인터넷,TV를 가입해서 사용하고 있는 개인 가입자 입니다.8/22일 휴가를 마치고 집으로 오니 인터넷,TV가 안되어서 SK 장애부서인 106번 으로전화하여 수리요청을 했습니다.상담원이 관할지역 기사님을 알아보고는 오늘은 기사님들이 스케줄이 안되어서 장애처리를 내일 해야 된다고 하였습니다.그래서 오늘 아이들 인터넷으로 숙제도해야되고 TV시청도 해야되니 오늘 늦더라도 고쳐달라고 말하니,조금뒤 기술부서 실장님이 전화를 주셔서 어떻게 해도 금일중으로는  기사님을 수배할수 없기 때문에 장애처리를 할수 없고 내일 오전10시즘에 처리 할수 있다고 말했습니다.A/S기사님들은 오전에 그날 A/S처리  스케줄을 다잡고 나가는데 그러면 소비자 들은 장애가 나면 무조건 다음날 A/S처리를 봤아야 되니까? 소비자 잘못이 아니라 SK장비때문에 장애가 났는데 이거는 SK에서 긴급 장애처리 기사를 더고용해서 당일 장애건도 그날A/S처리를 해줘야 되는거 아닙니까.그리고 SK잘못때문에 장애가 났는데 당일 처리를 못해주면 인터넷 해지를 요청하니 수십만원의 위약금을 물어야 된다고 하는데 이것은 잘못된 처방 아닙니까.자기들 장비때문에 장애가나서 사용못하고 그래서 수리요청하니 당일 처리가 힘들고,그러면 해지하려하니 위약금 내라고 하고,완전히 개인가입자는 봉입니까.그리고 처음 인터넷가입시 장애처리 문제에 대해서는 설명도 없었는데 장애가 나고나니 스케줄 잡아서 내일 A/S받든지 아님 나갈 사람이 없어방법이 없다.알아서 해라라는 식으로 답변을 듣기만 해야되나요.장애신고 하는 사람들은 지금 인터넷,TV가 안되어서 전화를 하는 사람들이지 미리 고장날것을 알고 전화해서 예약스케줄을 잡는 사람들이 아닙니다.SK인터넷 장애처리부서는 생각좀 하시고 일합시다.', 'answer': '', 'category': '기타', 'sday': '2017-08-22', 'eday': '2017-09-06', 'proponent': 'kakao'}\n",
            "{'number': 582349, 'progress': '답변완료', 'title': '나경원 자한당 원내대표의 각종 의혹에 대한 특검 요청!', 'like': 365040, 'contents': '나경원 자한당 원내대표의 각종 의혹ㆍ논란들이\\n일파만파 번지고 있습니다.\\n\\n야권정치인의 실세인만큼 의혹이 말끔히 해소되려면\\n야당이 그토록 강조하는 정치적 중립성을 보다 강조하기 위해서는 현정권의 하에 있는 검찰보다 나경원 의원이 좋아하는 특검을 설치하여 모든 의혹을 말끔히 해소하는게 나경원 원내대표도 바라마지 않을것입니다.\\n\\n이에 특검수사를 요청합니다.', 'answer': '다음은 나경원 자유한국당 원내대표의 각종 의혹에 대해 특검을 요청하신 청원에 대해 답변드리겠습니다.\\n본 청원은 8월 28일부터 한 달간 36만 여명의 국민께서 동의해 주셨습니다.\\n\\n청원의 계기가 된 것은 누리꾼 사이에서 불거진 나경원 의원의 자녀에 대한 의혹입니다. 국적 의혹, 논문의 제1저자 특혜 의혹 등과 관련된 다수의 언론 보도가 있었습니다.\\n\\n청원인께서는 나경원 자유한국당 원내대표가 야권의 대표 정치인인만큼 정치적 중립성을 보장하기 위해 특별검사를 통해 의혹을 말끔히 해소할 필요가 있다고 주장하셨습니다.\\n\\n먼저 청원인께서 요구하신 특별검사제도에 대하여 설명드리겠습니다.\\n\\n특별 검사 제도는, 주로 고위 공직자의 비리 또는 위법 혐의가 발견되었을 때 그 수사와 기소를 정권의 영향을 받을 수 있는 정규 검사가 아닌 ‘독립된 변호사’로 담당하게 하는 제도입니다.\\n특별 검사 제도는 특정 사건에 한정하여 검찰 등 행정부와는 독립된 사람에게 수사 및 기소 등 검사 역할을 수행하도록 하는 제도입니다.\\n\\n우리나라의 특검제는 정치적 사건이나 권력형 범죄와 비리 사건에서 나타난 검찰 수사의 소극성 또는 편향성에 대한 제도적 보완으로 1988년 당시 야당이던 평화민주당에 의해 처음 제기되었습니다. 그 이후 10년 이상의 논의를 거쳐 1999년에 특검제가 도입되었습니다. 또한 2014년에는 상설 특검을 도입하는 내용을 담은 ‘특별검사의 임명 등에 관한 법률’이 제정되었습니다.\\n\\n특검은 △ 국회가 정치적 중립성과 공정성 등을 이유로 특별검사의 수사가 필요하다고 판단하여 본회의에서 의결하거나 △ 법무부 장관이 정부 고위공직자의 비리를 대상으로 이해관계 충돌이나 공정성 등을 이유로 특검의 수사가 필요하다고 판단할 경우 발동될 수 있습니다. 후자의 경우, 다시 말해 법무부 장관이 특검 여부를 판단하는 경우, 법무부 장관은 반드시 검찰총장의 의견을 들어야 합니다.\\n\\n본 청원의 경우, 청원인께서는 나경원 자유한국당 원내대표의 자녀관련 의혹을 밝히는 특검을 요구하셨습니다. 그러나 본 건과 관련해 특별검사의 도입 여부는 국회에서 논의하여 결정해야 할 사안입니다. 법무부 장관이 정부와 무관한 사안에 대해 특검을 발동할 수는 없기 때문입니다.\\n\\n지난 9월 한 시민단체는 나경원 자유한국당 의원의 ‘자녀입시 의혹’과 관련하여 검찰에 이를 고발하였습니다. 그 이후 본 사건은 현재 검찰에서 수사 중입니다. 따라서 검찰의 수사 결과를 지켜봐야 하는 상황입니다.\\n\\n최근 부모의 특권적 지위를 이용하여 입시제도에서 혜택을 받은 경우에 대해 국민적 우려는 물론, 입시제도에서의 공정성, 사회적 불평등 해소에 대한 국민의 요구가 높습니다. 이러한 국민의 목소리를 반영하여 교육부에서는 학생부종합전형 전면 실태조사를 엄정하게 추진하고 있으며, 나아가 고교 서열화 해소를 위한 방안 등 입시제도 개편안을 준비하고 있습니다.\\n\\n또한 국회에서도 최근『국회의원 자녀의 대학입학전형과정 조사에 관한 특별법』『고위공직자 자녀 입시비리 조사를 위한 특별법』등 관련 법안이 발의되었습니다. 이 법안은 입시비리에 대한 전수조사 특별위원회를 구성하여 고위공직자의 자녀에 대한 특혜를 조사하고 결과에 따라 고발 및 수사요청, 감사원 감사요구 등을 실시하는 내용 등을 담고 있습니다.\\n\\n정부는 본 청원을 계기로 국회의원을 비롯한 사회 특권층, 그리고 이들 자녀의 입시 특혜 등 다양한 불공정에 대한 국민적 우려와 공정에 대한 강력한 열망을 다시 한 번 절감하였습니다. 이 점에 대해 청원인과 청원에 참여해 주신 국민께 깊이 감사드립니다.\\n\\n정부는 우리 사회에 만연한 특권과 반칙, 불공정을 없애고, 나아가서 제도에 내재 된 합법적인 불공정과 특권까지 근본적으로 바꿔낼 수 있도록 더욱 노력하겠습니다.\\n\\n오늘 답변은 여기서 마치겠습니다. 감사합니다.', 'category': '정치개혁', 'sday': '2019-08-28', 'eday': '2019-09-27', 'proponent': 'naver'}\n"
          ],
          "name": "stdout"
        }
      ]
    },
    {
      "cell_type": "code",
      "metadata": {
        "id": "Alk5_gAHlPq5",
        "colab_type": "code",
        "outputId": "79a3f8a1-4fcb-4e8c-d4f0-2a0786585339",
        "colab": {
          "base_uri": "https://localhost:8080/",
          "height": 503,
          "referenced_widgets": [
            "0d4680f7d60f4b44a326e3b29e15f75d",
            "efb6f56c7b1744b9a8f4670dfda06850",
            "9c3f694550ba402d8e379cfa75afd188",
            "c195671ee4bc48e29a3fb74210f12d9b",
            "a11b3cb55c354d96b41020d5ce45c300",
            "dafd0df92b0b4db194272d894b86c1c5",
            "235502e18c5a47fca251e6a368aa51e6",
            "7900d393987f405a9bfe69f566758aaa"
          ]
        }
      },
      "source": [
        "import pandas as pd\n",
        "def get_p(num = 583432, cnt = 2):\n",
        "    rtn = []\n",
        "    for idx, i in enumerate(tqdm(range(num-cnt, num))):\n",
        "        tmp = get_petition(i)\n",
        "        if idx == 0:\n",
        "            rtn_c = list(tmp.keys())\n",
        "        rtn.append(list(tmp.values()))\n",
        "    return (rtn_c, rtn)\n",
        "\n",
        "c, rtn = get_p()\n",
        "%time rtn.append(list(get_petition(582349).values()))\n",
        "%time rtn.append(list(get_petition(10).values()))\n",
        "%time pd.DataFrame(rtn, columns=c)"
      ],
      "execution_count": 27,
      "outputs": [
        {
          "output_type": "display_data",
          "data": {
            "application/vnd.jupyter.widget-view+json": {
              "model_id": "0d4680f7d60f4b44a326e3b29e15f75d",
              "version_minor": 0,
              "version_major": 2
            },
            "text/plain": [
              "HBox(children=(IntProgress(value=0, max=2), HTML(value='')))"
            ]
          },
          "metadata": {
            "tags": []
          }
        },
        {
          "output_type": "stream",
          "text": [
            "\n",
            "CPU times: user 51.9 ms, sys: 0 ns, total: 51.9 ms\n",
            "Wall time: 3.21 s\n",
            "10 Message: \n",
            "\n",
            "CPU times: user 7.87 ms, sys: 975 µs, total: 8.84 ms\n",
            "Wall time: 3.69 s\n",
            "CPU times: user 2.28 ms, sys: 0 ns, total: 2.28 ms\n",
            "Wall time: 2.29 ms\n"
          ],
          "name": "stdout"
        },
        {
          "output_type": "execute_result",
          "data": {
            "text/html": [
              "<div>\n",
              "<style scoped>\n",
              "    .dataframe tbody tr th:only-of-type {\n",
              "        vertical-align: middle;\n",
              "    }\n",
              "\n",
              "    .dataframe tbody tr th {\n",
              "        vertical-align: top;\n",
              "    }\n",
              "\n",
              "    .dataframe thead th {\n",
              "        text-align: right;\n",
              "    }\n",
              "</style>\n",
              "<table border=\"1\" class=\"dataframe\">\n",
              "  <thead>\n",
              "    <tr style=\"text-align: right;\">\n",
              "      <th></th>\n",
              "      <th>number</th>\n",
              "      <th>progress</th>\n",
              "      <th>title</th>\n",
              "      <th>like</th>\n",
              "      <th>contents</th>\n",
              "      <th>answer</th>\n",
              "      <th>category</th>\n",
              "      <th>sday</th>\n",
              "      <th>eday</th>\n",
              "      <th>proponent</th>\n",
              "    </tr>\n",
              "  </thead>\n",
              "  <tbody>\n",
              "    <tr>\n",
              "      <th>0</th>\n",
              "      <td>583430</td>\n",
              "      <td>청원종료</td>\n",
              "      <td>조국 전 장관 관련 ****** 상장폐지된다면 국민개미들 다 죽습니다.</td>\n",
              "      <td>639</td>\n",
              "      <td>안녕하십니까. 먼저 이렇게 이곳 청와대 청원장소까지 오게 되어 깊은 슬픔과 후회가 ...</td>\n",
              "      <td></td>\n",
              "      <td>인권/성평등</td>\n",
              "      <td>2019-11-04</td>\n",
              "      <td>2019-12-04</td>\n",
              "      <td>naver</td>\n",
              "    </tr>\n",
              "    <tr>\n",
              "      <th>1</th>\n",
              "      <td>583431</td>\n",
              "      <td>청원종료</td>\n",
              "      <td>공영방송을 선거로 정할 수 있게 해주십시오.</td>\n",
              "      <td>527</td>\n",
              "      <td>KBS가 사용하고 있는 공영방송의 타이틀을 국민이 선거로 바꿀 수 있게 해주십시오....</td>\n",
              "      <td></td>\n",
              "      <td>문화/예술/체육/언론</td>\n",
              "      <td>2019-11-04</td>\n",
              "      <td>2019-12-04</td>\n",
              "      <td>twitter</td>\n",
              "    </tr>\n",
              "    <tr>\n",
              "      <th>2</th>\n",
              "      <td>582349</td>\n",
              "      <td>답변완료</td>\n",
              "      <td>나경원 자한당 원내대표의 각종 의혹에 대한 특검 요청!</td>\n",
              "      <td>365040</td>\n",
              "      <td>나경원 자한당 원내대표의 각종 의혹ㆍ논란들이\\n일파만파 번지고 있습니다.\\n\\n야권...</td>\n",
              "      <td>다음은 나경원 자유한국당 원내대표의 각종 의혹에 대해 특검을 요청하신 청원에 대해 ...</td>\n",
              "      <td>정치개혁</td>\n",
              "      <td>2019-08-28</td>\n",
              "      <td>2019-09-27</td>\n",
              "      <td>naver</td>\n",
              "    </tr>\n",
              "    <tr>\n",
              "      <th>3</th>\n",
              "      <td>10</td>\n",
              "      <td>error</td>\n",
              "      <td></td>\n",
              "      <td>0</td>\n",
              "      <td>Message: \\n</td>\n",
              "      <td></td>\n",
              "      <td></td>\n",
              "      <td></td>\n",
              "      <td></td>\n",
              "      <td></td>\n",
              "    </tr>\n",
              "  </tbody>\n",
              "</table>\n",
              "</div>"
            ],
            "text/plain": [
              "   number progress  ...        eday  proponent\n",
              "0  583430     청원종료  ...  2019-12-04      naver\n",
              "1  583431     청원종료  ...  2019-12-04    twitter\n",
              "2  582349     답변완료  ...  2019-09-27      naver\n",
              "3      10    error  ...                       \n",
              "\n",
              "[4 rows x 10 columns]"
            ]
          },
          "metadata": {
            "tags": []
          },
          "execution_count": 27
        }
      ]
    },
    {
      "cell_type": "markdown",
      "metadata": {
        "id": "k73KCJ31l38S",
        "colab_type": "text"
      },
      "source": [
        "[https://www1.president.go.kr/petitions/10](https://www1.president.go.kr/petitions/10)\n",
        "- 관리자에 의해 비공개된 청원입니다"
      ]
    }
  ]
}